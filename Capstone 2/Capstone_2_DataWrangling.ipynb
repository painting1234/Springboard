{
 "cells": [
  {
   "cell_type": "code",
   "execution_count": 667,
   "metadata": {},
   "outputs": [],
   "source": [
    "# Import packages\n",
    "import os\n",
    "import seaborn as sns\n",
    "import numpy as np\n",
    "import pandas as pd\n",
    "import matplotlib.pyplot as plt\n",
    "from IPython.display import display, HTML\n",
    "import statsmodels.api as sm"
   ]
  },
  {
   "cell_type": "markdown",
   "metadata": {},
   "source": [
    "### Data Collection"
   ]
  },
  {
   "cell_type": "code",
   "execution_count": 668,
   "metadata": {},
   "outputs": [],
   "source": [
    "# Data Collection\n",
    "# Data files and codebook from: https://www.eia.gov/consumption/residential/data/2015/index.php?view=microdata\n",
    "\n",
    "# Load and Preview DataFrame\n",
    "df = pd.read_csv('recs2015.csv')\n",
    "df = df.set_index(['DOEID'])\n",
    "\n",
    "# Create feature for electric rate; total electric cost is likely unknown when trying to predict kWH, but electric rate is generally known for each region.\n",
    "df['ELRATE'] = df['DOLLAREL']/df['KWH']"
   ]
  },
  {
   "cell_type": "markdown",
   "metadata": {},
   "source": [
    "### Data Definition"
   ]
  },
  {
   "cell_type": "code",
   "execution_count": 669,
   "metadata": {},
   "outputs": [
    {
     "name": "stdout",
     "output_type": "stream",
     "text": [
      "<class 'pandas.core.frame.DataFrame'>\n",
      "Int64Index: 5686 entries, 10001 to 15686\n",
      "Columns: 759 entries, REGIONC to ELRATE\n",
      "dtypes: float64(263), int64(492), object(4)\n",
      "memory usage: 33.0+ MB\n",
      "None\n"
     ]
    },
    {
     "data": {
      "text/html": [
       "<div>\n",
       "<style scoped>\n",
       "    .dataframe tbody tr th:only-of-type {\n",
       "        vertical-align: middle;\n",
       "    }\n",
       "\n",
       "    .dataframe tbody tr th {\n",
       "        vertical-align: top;\n",
       "    }\n",
       "\n",
       "    .dataframe thead th {\n",
       "        text-align: right;\n",
       "    }\n",
       "</style>\n",
       "<table border=\"1\" class=\"dataframe\">\n",
       "  <thead>\n",
       "    <tr style=\"text-align: right;\">\n",
       "      <th></th>\n",
       "      <th>REGIONC</th>\n",
       "      <th>DIVISION</th>\n",
       "      <th>METROMICRO</th>\n",
       "      <th>UATYP10</th>\n",
       "      <th>TYPEHUQ</th>\n",
       "      <th>ZTYPEHUQ</th>\n",
       "      <th>CELLAR</th>\n",
       "      <th>ZCELLAR</th>\n",
       "      <th>BASEFIN</th>\n",
       "      <th>ZBASEFIN</th>\n",
       "      <th>...</th>\n",
       "      <th>NGXBTU</th>\n",
       "      <th>PERIODNG</th>\n",
       "      <th>ZNGAMOUNT</th>\n",
       "      <th>FOXBTU</th>\n",
       "      <th>PERIODFO</th>\n",
       "      <th>ZFOAMOUNT</th>\n",
       "      <th>LPXBTU</th>\n",
       "      <th>PERIODLP</th>\n",
       "      <th>ZLPAMOUNT</th>\n",
       "      <th>ELRATE</th>\n",
       "    </tr>\n",
       "    <tr>\n",
       "      <th>DOEID</th>\n",
       "      <th></th>\n",
       "      <th></th>\n",
       "      <th></th>\n",
       "      <th></th>\n",
       "      <th></th>\n",
       "      <th></th>\n",
       "      <th></th>\n",
       "      <th></th>\n",
       "      <th></th>\n",
       "      <th></th>\n",
       "      <th></th>\n",
       "      <th></th>\n",
       "      <th></th>\n",
       "      <th></th>\n",
       "      <th></th>\n",
       "      <th></th>\n",
       "      <th></th>\n",
       "      <th></th>\n",
       "      <th></th>\n",
       "      <th></th>\n",
       "      <th></th>\n",
       "    </tr>\n",
       "  </thead>\n",
       "  <tbody>\n",
       "    <tr>\n",
       "      <th>10001</th>\n",
       "      <td>4</td>\n",
       "      <td>10</td>\n",
       "      <td>METRO</td>\n",
       "      <td>U</td>\n",
       "      <td>2</td>\n",
       "      <td>0</td>\n",
       "      <td>0</td>\n",
       "      <td>0</td>\n",
       "      <td>-2</td>\n",
       "      <td>-2</td>\n",
       "      <td>...</td>\n",
       "      <td>103.32</td>\n",
       "      <td>1</td>\n",
       "      <td>0</td>\n",
       "      <td>137.45</td>\n",
       "      <td>-2</td>\n",
       "      <td>-2</td>\n",
       "      <td>91.33</td>\n",
       "      <td>-2</td>\n",
       "      <td>-2</td>\n",
       "      <td>0.183509</td>\n",
       "    </tr>\n",
       "    <tr>\n",
       "      <th>10002</th>\n",
       "      <td>3</td>\n",
       "      <td>7</td>\n",
       "      <td>NONE</td>\n",
       "      <td>R</td>\n",
       "      <td>2</td>\n",
       "      <td>0</td>\n",
       "      <td>0</td>\n",
       "      <td>0</td>\n",
       "      <td>-2</td>\n",
       "      <td>-2</td>\n",
       "      <td>...</td>\n",
       "      <td>NaN</td>\n",
       "      <td>-2</td>\n",
       "      <td>-2</td>\n",
       "      <td>137.45</td>\n",
       "      <td>-2</td>\n",
       "      <td>-2</td>\n",
       "      <td>91.33</td>\n",
       "      <td>-2</td>\n",
       "      <td>-2</td>\n",
       "      <td>0.112216</td>\n",
       "    </tr>\n",
       "    <tr>\n",
       "      <th>10003</th>\n",
       "      <td>3</td>\n",
       "      <td>6</td>\n",
       "      <td>METRO</td>\n",
       "      <td>U</td>\n",
       "      <td>2</td>\n",
       "      <td>0</td>\n",
       "      <td>1</td>\n",
       "      <td>0</td>\n",
       "      <td>1</td>\n",
       "      <td>0</td>\n",
       "      <td>...</td>\n",
       "      <td>100.14</td>\n",
       "      <td>1</td>\n",
       "      <td>0</td>\n",
       "      <td>137.45</td>\n",
       "      <td>-2</td>\n",
       "      <td>-2</td>\n",
       "      <td>91.33</td>\n",
       "      <td>-2</td>\n",
       "      <td>-2</td>\n",
       "      <td>0.123533</td>\n",
       "    </tr>\n",
       "    <tr>\n",
       "      <th>10004</th>\n",
       "      <td>2</td>\n",
       "      <td>4</td>\n",
       "      <td>MICRO</td>\n",
       "      <td>C</td>\n",
       "      <td>2</td>\n",
       "      <td>0</td>\n",
       "      <td>1</td>\n",
       "      <td>0</td>\n",
       "      <td>1</td>\n",
       "      <td>0</td>\n",
       "      <td>...</td>\n",
       "      <td>NaN</td>\n",
       "      <td>-2</td>\n",
       "      <td>-2</td>\n",
       "      <td>137.45</td>\n",
       "      <td>-2</td>\n",
       "      <td>-2</td>\n",
       "      <td>91.33</td>\n",
       "      <td>2</td>\n",
       "      <td>0</td>\n",
       "      <td>0.133277</td>\n",
       "    </tr>\n",
       "    <tr>\n",
       "      <th>10005</th>\n",
       "      <td>1</td>\n",
       "      <td>2</td>\n",
       "      <td>METRO</td>\n",
       "      <td>U</td>\n",
       "      <td>2</td>\n",
       "      <td>0</td>\n",
       "      <td>1</td>\n",
       "      <td>0</td>\n",
       "      <td>0</td>\n",
       "      <td>0</td>\n",
       "      <td>...</td>\n",
       "      <td>102.83</td>\n",
       "      <td>1</td>\n",
       "      <td>0</td>\n",
       "      <td>137.45</td>\n",
       "      <td>-2</td>\n",
       "      <td>-2</td>\n",
       "      <td>91.33</td>\n",
       "      <td>-2</td>\n",
       "      <td>-2</td>\n",
       "      <td>0.186500</td>\n",
       "    </tr>\n",
       "  </tbody>\n",
       "</table>\n",
       "<p>5 rows × 759 columns</p>\n",
       "</div>"
      ],
      "text/plain": [
       "       REGIONC  DIVISION METROMICRO UATYP10  TYPEHUQ  ZTYPEHUQ  CELLAR  \\\n",
       "DOEID                                                                    \n",
       "10001        4        10      METRO       U        2         0       0   \n",
       "10002        3         7       NONE       R        2         0       0   \n",
       "10003        3         6      METRO       U        2         0       1   \n",
       "10004        2         4      MICRO       C        2         0       1   \n",
       "10005        1         2      METRO       U        2         0       1   \n",
       "\n",
       "       ZCELLAR  BASEFIN  ZBASEFIN  ...  NGXBTU  PERIODNG  ZNGAMOUNT  FOXBTU  \\\n",
       "DOEID                              ...                                        \n",
       "10001        0       -2        -2  ...  103.32         1          0  137.45   \n",
       "10002        0       -2        -2  ...     NaN        -2         -2  137.45   \n",
       "10003        0        1         0  ...  100.14         1          0  137.45   \n",
       "10004        0        1         0  ...     NaN        -2         -2  137.45   \n",
       "10005        0        0         0  ...  102.83         1          0  137.45   \n",
       "\n",
       "       PERIODFO  ZFOAMOUNT  LPXBTU  PERIODLP  ZLPAMOUNT    ELRATE  \n",
       "DOEID                                                              \n",
       "10001        -2         -2   91.33        -2         -2  0.183509  \n",
       "10002        -2         -2   91.33        -2         -2  0.112216  \n",
       "10003        -2         -2   91.33        -2         -2  0.123533  \n",
       "10004        -2         -2   91.33         2          0  0.133277  \n",
       "10005        -2         -2   91.33        -2         -2  0.186500  \n",
       "\n",
       "[5 rows x 759 columns]"
      ]
     },
     "execution_count": 669,
     "metadata": {},
     "output_type": "execute_result"
    }
   ],
   "source": [
    "# Inspect dataframe\n",
    "print(df.info())\n",
    "df.head()"
   ]
  },
  {
   "cell_type": "code",
   "execution_count": 670,
   "metadata": {},
   "outputs": [
    {
     "data": {
      "text/html": [
       "<div>\n",
       "<style scoped>\n",
       "    .dataframe tbody tr th:only-of-type {\n",
       "        vertical-align: middle;\n",
       "    }\n",
       "\n",
       "    .dataframe tbody tr th {\n",
       "        vertical-align: top;\n",
       "    }\n",
       "\n",
       "    .dataframe thead th {\n",
       "        text-align: right;\n",
       "    }\n",
       "</style>\n",
       "<table border=\"1\" class=\"dataframe\">\n",
       "  <thead>\n",
       "    <tr style=\"text-align: right;\">\n",
       "      <th></th>\n",
       "      <th>0</th>\n",
       "      <th>1</th>\n",
       "      <th>2</th>\n",
       "      <th>3</th>\n",
       "      <th>4</th>\n",
       "      <th>5</th>\n",
       "      <th>6</th>\n",
       "      <th>7</th>\n",
       "      <th>8</th>\n",
       "      <th>9</th>\n",
       "      <th>...</th>\n",
       "      <th>749</th>\n",
       "      <th>750</th>\n",
       "      <th>751</th>\n",
       "      <th>752</th>\n",
       "      <th>753</th>\n",
       "      <th>754</th>\n",
       "      <th>755</th>\n",
       "      <th>756</th>\n",
       "      <th>757</th>\n",
       "      <th>758</th>\n",
       "    </tr>\n",
       "  </thead>\n",
       "  <tbody>\n",
       "    <tr>\n",
       "      <th>Feature</th>\n",
       "      <td>USEEL</td>\n",
       "      <td>ZTYPEHUQ</td>\n",
       "      <td>LPXBTU</td>\n",
       "      <td>ELXBTU</td>\n",
       "      <td>ELOTHER</td>\n",
       "      <td>ZFOODPROC</td>\n",
       "      <td>RICECOOK</td>\n",
       "      <td>ZRICECOOK</td>\n",
       "      <td>BLENDER</td>\n",
       "      <td>ZBLENDER</td>\n",
       "      <td>...</td>\n",
       "      <td>KWH</td>\n",
       "      <td>TOTALBTUWTH</td>\n",
       "      <td>KWHNEC</td>\n",
       "      <td>BTUEL</td>\n",
       "      <td>KWHLGT</td>\n",
       "      <td>BTUELNEC</td>\n",
       "      <td>TOTALBTUNEC</td>\n",
       "      <td>TOTALBTU</td>\n",
       "      <td>BTUELLGT</td>\n",
       "      <td>ELRATE</td>\n",
       "    </tr>\n",
       "    <tr>\n",
       "      <th>Count_Unique</th>\n",
       "      <td>1</td>\n",
       "      <td>1</td>\n",
       "      <td>1</td>\n",
       "      <td>1</td>\n",
       "      <td>1</td>\n",
       "      <td>2</td>\n",
       "      <td>2</td>\n",
       "      <td>2</td>\n",
       "      <td>2</td>\n",
       "      <td>2</td>\n",
       "      <td>...</td>\n",
       "      <td>5665</td>\n",
       "      <td>5672</td>\n",
       "      <td>5677</td>\n",
       "      <td>5680</td>\n",
       "      <td>5681</td>\n",
       "      <td>5682</td>\n",
       "      <td>5683</td>\n",
       "      <td>5684</td>\n",
       "      <td>5685</td>\n",
       "      <td>5686</td>\n",
       "    </tr>\n",
       "  </tbody>\n",
       "</table>\n",
       "<p>2 rows × 759 columns</p>\n",
       "</div>"
      ],
      "text/plain": [
       "                0         1       2       3        4          5         6    \\\n",
       "Feature       USEEL  ZTYPEHUQ  LPXBTU  ELXBTU  ELOTHER  ZFOODPROC  RICECOOK   \n",
       "Count_Unique      1         1       1       1        1          2         2   \n",
       "\n",
       "                    7        8         9    ...   749          750     751  \\\n",
       "Feature       ZRICECOOK  BLENDER  ZBLENDER  ...   KWH  TOTALBTUWTH  KWHNEC   \n",
       "Count_Unique          2        2         2  ...  5665         5672    5677   \n",
       "\n",
       "                752     753       754          755       756       757     758  \n",
       "Feature       BTUEL  KWHLGT  BTUELNEC  TOTALBTUNEC  TOTALBTU  BTUELLGT  ELRATE  \n",
       "Count_Unique   5680    5681      5682         5683      5684      5685    5686  \n",
       "\n",
       "[2 rows x 759 columns]"
      ]
     },
     "execution_count": 670,
     "metadata": {},
     "output_type": "execute_result"
    },
    {
     "data": {
      "image/png": "[encoded data removed]",
      "text/plain": [
       "<Figure size 900x600 with 1 Axes>"
      ]
     },
     "metadata": {
      "needs_background": "light"
     },
     "output_type": "display_data"
    }
   ],
   "source": [
    "# The dataframe has many categorical variables encoded as numeric. Use sorted list to help identify categorical variables\n",
    "x0 = np.arange(len(df.columns))\n",
    "features = df.nunique().sort_values().index\n",
    "counts = df.nunique().sort_values()\n",
    "\n",
    "sns.scatterplot(x=x0, y=counts)\n",
    "plt.title('Number of Unique Values in order of features array')\n",
    "pd.DataFrame([features, counts], index=['Feature','Count_Unique'])"
   ]
  },
  {
   "cell_type": "markdown",
   "metadata": {},
   "source": [
    "### Data Cleaning"
   ]
  },
  {
   "cell_type": "markdown",
   "metadata": {},
   "source": [
    "#### Eliminate Extraneous Features\n",
    "\n",
    "The following features of the original dataset are not expected to be predictive and were manually grouped into lists.\n",
    "\n",
    "* Imputation flags: describes whether variables were imputed from survey forms\n",
    "* Conversion factors: constants representing conversion of one form of energy to another\n",
    "* Other utilities: total consumption of propane, fuel oil, and natural gas, as well as estimates of end-use consumption for specific activities usch as clothes washing based on survey responses\n",
    "* Estimators: replicate sample estimates from Fay’s method of the balanced repeated replication (BRR) technique for calculating standard error\n",
    "* Redundant variables: Expected to be highly colinear with others. An example is HDD50; which is a scaling factor used to calculate required heat to bring building temperature to 50 degrees Fahrenheit, when the dataset already contains HDD65 -- the same thing but for a 65 degree F temperature.\n",
    "* Detailed: Variables that are likely not known for most buildings because they would require a detailed audit\n",
    "* Miscellaneous: Other variables manually reviewed which are not expected to affect KWH; example is move-in date"
   ]
  },
  {
   "cell_type": "code",
   "execution_count": 671,
   "metadata": {},
   "outputs": [],
   "source": [
    "# Read in lists of non-predictive features\n",
    "impute0 = pd.read_excel('Data Cleaning/imputation_flags.xlsx')['Variable']\n",
    "conversion0 = pd.read_excel('Data Cleaning/conversion_factors.xlsx')['Variable']\n",
    "other_utilities0 = pd.read_excel('Data Cleaning/other_utilities.xlsx')['Variable']\n",
    "estimators0 = pd.read_excel('Data Cleaning/statistical_estimators.xlsx')['Variable']\n",
    "utility_costs0 = pd.read_excel('Data Cleaning/utility_costs.xlsx')['Variable']\n",
    "redundant0 = pd.read_excel('Data Cleaning/redundant_vars.xlsx')['Variable']\n",
    "detailed0 = pd.read_excel('Data Cleaning/detailed_audit.xlsx')['Variable']\n",
    "miscellaneous0 = pd.read_excel('Data Cleaning/miscellaneous_not_used.xlsx')['Variable']"
   ]
  },
  {
   "cell_type": "markdown",
   "metadata": {},
   "source": [
    "#### Set aside potential cluster variables\n",
    "\n",
    "There are many variables describing tenant-behavior, energy star appliances, and demographic information. These are not expected to be significant on their own but in combination may be useful for clustering; for example to categorize resident activity as low/medium/high."
   ]
  },
  {
   "cell_type": "code",
   "execution_count": 672,
   "metadata": {},
   "outputs": [],
   "source": [
    "# Read in lists of similar predictive features that may work better as clusters or principal components\n",
    "tenant_behavior_c = pd.read_excel('Data Cleaning/tenant_behavior_cluster.xlsx')['Variable']\n",
    "energy_star_c = pd.read_excel('Data Cleaning/energy_star_cluster.xlsx')['Variable']\n",
    "energy_assistance_c = pd.read_excel('Data Cleaning/energy_assistance_cluster.xlsx')['Variable']"
   ]
  },
  {
   "cell_type": "code",
   "execution_count": 673,
   "metadata": {},
   "outputs": [],
   "source": [
    "# Combine nonpredictive features into a single list\n",
    "nonpredict = np.concatenate((impute0, conversion0, other_utilities0, estimators0, utility_costs0, miscellaneous0, redundant0, detailed0), axis=0)"
   ]
  },
  {
   "cell_type": "code",
   "execution_count": 674,
   "metadata": {},
   "outputs": [],
   "source": [
    "# Combine clusters into list to be temporarily dropped\n",
    "clustervars = np.concatenate((tenant_behavior_c, energy_star_c, energy_assistance_c), axis=0)"
   ]
  },
  {
   "cell_type": "code",
   "execution_count": 675,
   "metadata": {},
   "outputs": [],
   "source": [
    "# Drop nonpredictive features\n",
    "df = df.drop(nonpredict, axis=1)\n",
    "\n",
    "# Drop cluster variables\n",
    "df = df.drop(clustervars, axis=1)"
   ]
  },
  {
   "cell_type": "markdown",
   "metadata": {},
   "source": [
    "#### -->Inspect Resulting Dataframe"
   ]
  },
  {
   "cell_type": "code",
   "execution_count": 676,
   "metadata": {},
   "outputs": [],
   "source": [
    "# Count missing values using keys from documentation: {'Not applicable': -2, 'Don't Know': -9, 'Refuse': -8}\n",
    "\n",
    "# Create mask for each type of missing value\n",
    "na_mask = df.apply(lambda x: x==-2)\n",
    "dk_mask = df.apply(lambda x: x==-9)\n",
    "refuse_mask = df.apply(lambda x: x==-8)"
   ]
  },
  {
   "cell_type": "code",
   "execution_count": 677,
   "metadata": {},
   "outputs": [
    {
     "name": "stdout",
     "output_type": "stream",
     "text": [
      "48 columns containing \"Not applicable\" values.\n",
      "4 columns containing \"Dont know\" values.\n",
      "2 columns containing \"Refuse\" values.\n"
     ]
    }
   ],
   "source": [
    "# Count number of instances where mask is True\n",
    "na = df[na_mask].count()[df[na_mask].count() > 0]\n",
    "dk = df[dk_mask].count()[df[dk_mask].count() > 0]\n",
    "refuse = df[refuse_mask].count()[df[refuse_mask].count() > 0]\n",
    "\n",
    "print(str(len(na.index)) + ' columns containing \\\"Not applicable\\\" values.')\n",
    "print(str(len(dk.index)) + ' columns containing \\\"Dont know\\\" values.')\n",
    "print(str(len(refuse.index)) + ' columns containing \\\"Refuse\\\" values.')"
   ]
  },
  {
   "cell_type": "markdown",
   "metadata": {},
   "source": [
    "#### -->Replace Negatives Representing Missing Values"
   ]
  },
  {
   "cell_type": "code",
   "execution_count": 678,
   "metadata": {},
   "outputs": [],
   "source": [
    "# Replace negative values for binary variables (i.e. where negatives are \"not applicable\")\n",
    "\n",
    "# Read in binary variables\n",
    "binaryvars = pd.read_excel('Data Cleaning/binary_vars.xlsx')['Variable']\n",
    "\n",
    "# Filter out negative values (\"Not applicable\" means approximately the same as \"no\" or \"does not have\" for binary variables)\n",
    "df[binaryvars] = df[binaryvars].apply(lambda x: (x>0)*x)"
   ]
  },
  {
   "cell_type": "markdown",
   "metadata": {},
   "source": [
    "#### -->Make Categorical Variables Dummy Variables"
   ]
  },
  {
   "cell_type": "code",
   "execution_count": 679,
   "metadata": {},
   "outputs": [],
   "source": [
    "# Create dummy variables for columns with missing answers, making the missing values the base case.\n",
    "\n",
    "# Read in list of categorical variables\n",
    "cat_vars = pd.read_excel('Data Cleaning/categorical_vars.xlsx')['Variable']"
   ]
  },
  {
   "cell_type": "code",
   "execution_count": 680,
   "metadata": {},
   "outputs": [],
   "source": [
    "df = pd.get_dummies(df.astype(str), columns=cat_vars, drop_first=True, prefix=cat_vars).astype('float64')"
   ]
  },
  {
   "cell_type": "code",
   "execution_count": 681,
   "metadata": {},
   "outputs": [
    {
     "name": "stdout",
     "output_type": "stream",
     "text": [
      "0\n"
     ]
    },
    {
     "data": {
      "text/plain": [
       "(5686, 228)"
      ]
     },
     "execution_count": 681,
     "metadata": {},
     "output_type": "execute_result"
    }
   ],
   "source": [
    "# Check missing values\n",
    "print(df.isna().sum().max())\n",
    "\n",
    "# Inspect DataFrame\n",
    "df.shape"
   ]
  },
  {
   "cell_type": "markdown",
   "metadata": {},
   "source": [
    "#### -->Reinspect Missing Values"
   ]
  },
  {
   "cell_type": "code",
   "execution_count": 682,
   "metadata": {},
   "outputs": [
    {
     "name": "stdout",
     "output_type": "stream",
     "text": [
      "2 columns containing \"Not applicable\" values:\n",
      "Index(['NUMBERAC', 'NUMWHOLEFAN'], dtype='object')\n",
      "0 columns containing \"Dont know\" values:\n",
      "Index([], dtype='object')\n",
      "0 columns containing \"Refuse\" values:\n",
      "Index([], dtype='object')\n"
     ]
    }
   ],
   "source": [
    "# Create mask for each type of missing value\n",
    "na_mask = df.apply(lambda x: x==-2)\n",
    "dk_mask = df.apply(lambda x: x==-9)\n",
    "refuse_mask = df.apply(lambda x: x==-8)\n",
    "\n",
    "# Count number of instances where mask is True\n",
    "na = df[na_mask].count()[df[na_mask].count() > 0]\n",
    "dk = df[dk_mask].count()[df[dk_mask].count() > 0]\n",
    "refuse = df[refuse_mask].count()[df[refuse_mask].count() > 0]\n",
    "\n",
    "print(str(len(na.index)) + ' columns containing \\\"Not applicable\\\" values:')\n",
    "print(na.index)\n",
    "print(str(len(dk.index)) + ' columns containing \\\"Dont know\\\" values:')\n",
    "print(dk.index)\n",
    "print(str(len(refuse.index)) + ' columns containing \\\"Refuse\\\" values:')\n",
    "print(refuse.index)"
   ]
  },
  {
   "cell_type": "code",
   "execution_count": 683,
   "metadata": {},
   "outputs": [],
   "source": [
    "# Replace remaining \"not applicable\" negatives for number of AC units and number of whole house fans with zeros\n",
    "df[na.index] = df[na.index].apply(lambda x: (x>0)*x)\n",
    "\n",
    "# Remap responses to make near-ordinal variables ordinal: LGTINCFL and LGTINLED responses represent portion of lighting having CFL and LED bulbs on scale of \"all\" to \"none\"\n",
    "# The \"0\" should be the highest value\n",
    "df['LGTINCFL'][df['LGTINCFL'] == 0] = df['LGTINCFL'][df['LGTINCFL'] == 0].apply(lambda x: 5)\n",
    "df['LGTINLED'][df['LGTINLED'] == 0] = df['LGTINCFL'][df['LGTINCFL'] == 0].apply(lambda x: 5)"
   ]
  },
  {
   "cell_type": "code",
   "execution_count": 684,
   "metadata": {},
   "outputs": [
    {
     "name": "stdout",
     "output_type": "stream",
     "text": [
      "<class 'pandas.core.frame.DataFrame'>\n",
      "Int64Index: 5686 entries, 10001 to 15686\n",
      "Columns: 228 entries, CELLAR to WWACAGE_5\n",
      "dtypes: float64(228)\n",
      "memory usage: 10.1 MB\n"
     ]
    }
   ],
   "source": [
    "df.info()"
   ]
  },
  {
   "cell_type": "code",
   "execution_count": 685,
   "metadata": {},
   "outputs": [],
   "source": [
    "# Drop any other missing values\n",
    "df.dropna(inplace=True)"
   ]
  },
  {
   "cell_type": "markdown",
   "metadata": {},
   "source": [
    "### Dimension Reduction (Preliminary)"
   ]
  },
  {
   "cell_type": "code",
   "execution_count": 686,
   "metadata": {},
   "outputs": [],
   "source": [
    "# Import sklearn packages\n",
    "\n",
    "from sklearn.linear_model import Lasso\n",
    "from sklearn.model_selection import train_test_split"
   ]
  },
  {
   "cell_type": "code",
   "execution_count": 687,
   "metadata": {},
   "outputs": [],
   "source": [
    "# Split Data\n",
    "X = df.drop('KWH', axis=1)\n",
    "names = df.drop('KWH', axis=1).columns\n",
    "y = df['KWH']"
   ]
  },
  {
   "cell_type": "markdown",
   "metadata": {},
   "source": [
    "#### -->Lasso Regression"
   ]
  },
  {
   "cell_type": "code",
   "execution_count": 688,
   "metadata": {},
   "outputs": [
    {
     "name": "stdout",
     "output_type": "stream",
     "text": [
      "Index(['ATTIC', 'NCOMBATH', 'NHAFBATH', 'HIGHCEIL', 'WINDOWS', 'ADQINSUL',\n",
      "       'SWIMPOOL', 'RECBATH', 'BACKUP', 'NUMFRIG', 'NUMFREEZ', 'STOVEN',\n",
      "       'STOVE', 'OVEN', 'DRYER', 'GARGHEAT', 'AIRCOND', 'CENACHP', 'NUMBERAC',\n",
      "       'GARGCOOL', 'MORETHAN1H2O', 'LGTINCFL', 'LGTINLED', 'NHSLDMEM',\n",
      "       'NUMADULT', 'MONEYPY', 'ELWARM', 'ELCOOL', 'ELFOOD', 'TOTCSQFT',\n",
      "       'TOTSQFT_EN', 'CDD65', 'REGIONC_3', 'METROMICRO_MICRO',\n",
      "       'METROMICRO_NONE', 'UATYP10_R', 'TYPEHUQ_2', 'STORIES_10', 'KOWNRENT_3',\n",
      "       'WALLTYPE_7', 'ROOFTYPE_3', 'ROOFTYPE_4', 'ROOFTYPE_7', 'FUELPOOL_1',\n",
      "       'FUELPOOL_5', 'FUELTUB_2', 'FUELTUB_21', 'FUELTUB_5', 'FUELTUB_8',\n",
      "       'STOVENFUEL_2', 'STOVEFUEL_2', 'OVENFUEL_2', 'OVENFUEL_5', 'DRYRFUEL_5',\n",
      "       'EQUIPM_4', 'EQUIPM_6', 'FUELHEAT_21', 'FUELHEAT_5', 'EQUIPAUXTYPE_2',\n",
      "       'FUELAUX_2', 'COOLTYPE_3', 'FUELH2O_5', 'FUELH2O_8', 'WHEATSIZ_3',\n",
      "       'FUELH2O2_1', 'FUELH2O2_5', 'FUELH2O2_7', 'ELPAY_2', 'ELPAY_3',\n",
      "       'ELPAY_9', 'IECC_CLIMATE_PUB_3A', 'IECC_CLIMATE_PUB_4A',\n",
      "       'IECC_CLIMATE_PUB_4C', 'IECC_CLIMATE_PUB_7A-7B-7AK-8AK',\n",
      "       'SIZEOFGARAGE_3', 'EQUIPAGE_3', 'AGECENAC_1', 'AGECENAC_3',\n",
      "       'AGECENAC_42', 'WWACAGE_2'],\n",
      "      dtype='object')\n"
     ]
    }
   ],
   "source": [
    "# Lasso: Reduce dimensionality of dataset and print feature names.\n",
    "\n",
    "lasso = Lasso(alpha=1, max_iter=1000, normalize=True)\n",
    "lasso_coef = lasso.fit(X,y).coef_\n",
    "coef = pd.DataFrame(lasso_coef, names)\n",
    "coef_names = coef[coef[0]>0].index\n",
    "print(coef_names)"
   ]
  }
 ],
 "metadata": {
  "kernelspec": {
   "display_name": "Python 3",
   "language": "python",
   "name": "python3"
  },
  "language_info": {
   "codemirror_mode": {
    "name": "ipython",
    "version": 3
   },
   "file_extension": ".py",
   "mimetype": "text/x-python",
   "name": "python",
   "nbconvert_exporter": "python",
   "pygments_lexer": "ipython3",
   "version": "3.7.9"
  },
  "toc-showtags": false
 },
 "nbformat": 4,
 "nbformat_minor": 4
}
