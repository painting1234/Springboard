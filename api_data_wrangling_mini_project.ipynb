{
 "cells": [
  {
   "cell_type": "markdown",
   "metadata": {},
   "source": [
    "This exercise will require you to pull some data from the Qunadl API. Qaundl is currently the most widely used aggregator of financial market data."
   ]
  },
  {
   "cell_type": "markdown",
   "metadata": {},
   "source": [
    "As a first step, you will need to register a free account on the http://www.quandl.com website."
   ]
  },
  {
   "cell_type": "markdown",
   "metadata": {},
   "source": [
    "After you register, you will be provided with a unique API key, that you should store:"
   ]
  },
  {
   "cell_type": "code",
   "execution_count": 8,
   "metadata": {},
   "outputs": [],
   "source": [
    "# Store the API key as a string - according to PEP8, constants are always named in all upper case\n",
    "API_KEY = 'c'"
   ]
  },
  {
   "cell_type": "markdown",
   "metadata": {},
   "source": [
    "Qaundl has a large number of data sources, but, unfortunately, most of them require a Premium subscription. Still, there are also a good number of free datasets."
   ]
  },
  {
   "cell_type": "markdown",
   "metadata": {},
   "source": [
    "For this mini project, we will focus on equities data from the Frankfurt Stock Exhange (FSE), which is available for free. We'll try and analyze the stock prices of a company called Carl Zeiss Meditec, which manufactures tools for eye examinations, as well as medical lasers for laser eye surgery: https://www.zeiss.com/meditec/int/home.html. The company is listed under the stock ticker AFX_X."
   ]
  },
  {
   "cell_type": "markdown",
   "metadata": {},
   "source": [
    "You can find the detailed Quandl API instructions here: https://docs.quandl.com/docs/time-series"
   ]
  },
  {
   "cell_type": "markdown",
   "metadata": {},
   "source": [
    "While there is a dedicated Python package for connecting to the Quandl API, we would prefer that you use the *requests* package, which can be easily downloaded using *pip* or *conda*. You can find the documentation for the package here: http://docs.python-requests.org/en/master/ "
   ]
  },
  {
   "cell_type": "markdown",
   "metadata": {},
   "source": [
    "Finally, apart from the *requests* package, you are encouraged to not use any third party Python packages, such as *pandas*, and instead focus on what's available in the Python Standard Library (the *collections* module might come in handy: https://pymotw.com/3/collections/ ).\n",
    "Also, since you won't have access to DataFrames, you are encouraged to us Python's native data structures - preferably dictionaries, though some questions can also be answered using lists.\n",
    "You can read more on these data structures here: https://docs.python.org/3/tutorial/datastructures.html"
   ]
  },
  {
   "cell_type": "markdown",
   "metadata": {},
   "source": [
    "Keep in mind that the JSON responses you will be getting from the API map almost one-to-one to Python's dictionaries. Unfortunately, they can be very nested, so make sure you read up on indexing dictionaries in the documentation provided above."
   ]
  },
  {
   "cell_type": "code",
   "execution_count": 9,
   "metadata": {},
   "outputs": [],
   "source": [
    "# First, import the relevant modules\n",
    "import requests\n",
    "import collections\n"
   ]
  },
  {
   "cell_type": "code",
   "execution_count": 152,
   "metadata": {},
   "outputs": [
    {
     "data": {
      "text/plain": [
       "{'dataset_data': {'limit': None,\n",
       "  'transform': None,\n",
       "  'column_index': None,\n",
       "  'column_names': ['Date',\n",
       "   'Open',\n",
       "   'High',\n",
       "   'Low',\n",
       "   'Close',\n",
       "   'Change',\n",
       "   'Traded Volume',\n",
       "   'Turnover',\n",
       "   'Last Price of the Day',\n",
       "   'Daily Traded Units',\n",
       "   'Daily Turnover'],\n",
       "  'start_date': '2020-06-25',\n",
       "  'end_date': '2020-06-25',\n",
       "  'frequency': 'daily',\n",
       "  'data': [['2020-06-25',\n",
       "    86.25,\n",
       "    88.25,\n",
       "    84.8,\n",
       "    87.8,\n",
       "    None,\n",
       "    118166.0,\n",
       "    10302946.05,\n",
       "    None,\n",
       "    None,\n",
       "    None]],\n",
       "  'collapse': None,\n",
       "  'order': None}}"
      ]
     },
     "execution_count": 152,
     "metadata": {},
     "output_type": "execute_result"
    }
   ],
   "source": [
    "# Now, call the Quandl API and pull out a small sample of the data (only one day) to get a glimpse\n",
    "# into the JSON structure that will be returned\n",
    "\n",
    "res = requests.get('https://www.quandl.com/api/v3/datasets/FSE/AFX_X/data.json?start_date=2020-06-25&api_key=' + API_KEY)\n",
    "stockdict = res.json()\n",
    "stockdict"
   ]
  },
  {
   "cell_type": "code",
   "execution_count": 56,
   "metadata": {},
   "outputs": [
    {
     "data": {
      "text/plain": [
       "dict_keys(['limit', 'transform', 'column_index', 'column_names', 'start_date', 'end_date', 'frequency', 'data', 'collapse', 'order'])"
      ]
     },
     "execution_count": 56,
     "metadata": {},
     "output_type": "execute_result"
    }
   ],
   "source": [
    "# Inspect the JSON structure of the object you created, and take note of how nested it is,\n",
    "# as well as the overall structure\n",
    "stockdict['dataset_data'].keys()"
   ]
  },
  {
   "cell_type": "markdown",
   "metadata": {},
   "source": [
    "These are your tasks for this mini project:\n",
    "\n",
    "1. Collect data from the Franfurt Stock Exchange, for the ticker AFX_X, for the whole year 2017 (keep in mind that the date format is YYYY-MM-DD).\n",
    "2. Convert the returned JSON object into a Python dictionary.\n",
    "3. Calculate what the highest and lowest opening prices were for the stock in this period.\n",
    "4. What was the largest change in any one day (based on High and Low price)?\n",
    "5. What was the largest change between any two days (based on Closing Price)?\n",
    "6. What was the average daily trading volume during this year?\n",
    "7. (Optional) What was the median trading volume during this year. (Note: you may need to implement your own function for calculating the median.)"
   ]
  },
  {
   "cell_type": "code",
   "execution_count": 162,
   "metadata": {},
   "outputs": [
    {
     "name": "stdout",
     "output_type": "stream",
     "text": [
      "['Date', 'Open', 'High', 'Low', 'Close', 'Change', 'Traded Volume', 'Turnover', 'Last Price of the Day', 'Daily Traded Units', 'Daily Turnover']\n"
     ]
    }
   ],
   "source": [
    "# API Request for 2017\n",
    "start_date_string='?start_date=' + '2017-01-01'\n",
    "end_date_string = '&end_date=' + '2017-12-31'\n",
    "api_string = '&api_key=' + API_KEY\n",
    "res = requests.get('https://www.quandl.com/api/v3/datasets/FSE/AFX_X/data.json' + start_date_string + end_date_string + api_string)\n",
    "\n",
    "#Convert to dict filetype and inspect structure\n",
    "stockdict = res.json()\n",
    "stockdict['dataset_data'].keys()\n",
    "columns = stockdict['dataset_data']['column_names']\n",
    "print(columns)"
   ]
  },
  {
   "cell_type": "code",
   "execution_count": 276,
   "metadata": {},
   "outputs": [
    {
     "name": "stdout",
     "output_type": "stream",
     "text": [
      "Highest and Lowest Opening Prices: \n",
      "53.11\n",
      "34.0\n",
      "Largest Change in Any One Day: \n",
      "-2.8100000000000023\n",
      "Maximum Two-Day Change in Close Price: \n",
      "3.1499999999999986\n",
      "Average Daily Trading Volume: \n",
      "89124.33725490196\n"
     ]
    }
   ],
   "source": [
    "# Save list containing required data into variable\n",
    "stock_data = stockdict['dataset_data']['data']\n",
    "\n",
    "# Get list positions of Open, High, Low, Close, and Traded Volume\n",
    "open_x = columns.index('Open')\n",
    "high_x = columns.index('High')\n",
    "low_x = columns.index('Low')\n",
    "close_x = columns.index('Close')\n",
    "volume_x = columns.index('Traded Volume')\n",
    "\n",
    "# Un-nest lists into separate variable names\n",
    "# Initialize empty lists, then append each nested value to a separate list\n",
    "Open = []\n",
    "High = []\n",
    "Low = []\n",
    "Close = []\n",
    "Volume = []\n",
    "\n",
    "for item in stock_data:\n",
    "    Open.append(item[open_x])\n",
    "    High.append(item[high_x])\n",
    "    Low.append(item[low_x])\n",
    "    Close.append(item[close_x])\n",
    "    Volume.append(item[volume_x])\n",
    "    \n",
    "# 'Open' has NoneTypes. Filter these out of the list in order to take max and min.\n",
    "Open = list(filter(None, Open))\n",
    "\n",
    "# Calculate what the highest and lowest opening prices were for the stock in this period.\n",
    "print('Highest and Lowest Opening Prices: ')\n",
    "print(max(Open))\n",
    "print(min(Open))\n",
    "\n",
    "# What was the largest change in any one day (based on High and Low price)?\n",
    "# (Using list comprehension to create lists of differences between daily high and low prices, then compare greatest increase to greatest decrease)\n",
    "day_rise = [High - Low for High, Low in zip(High, Low)]\n",
    "day_fall = [Low - High for High, Low in zip(High, Low)]\n",
    "print('Largest Change in Any One Day: ')\n",
    "if abs(max(day_rise)) > abs(min(day_fall)):\n",
    "    print(max(day_rise))\n",
    "else:\n",
    "    print(min(day_fall))\n",
    "\n",
    "# What was the largest change between any two days (based on Closing Price)?\n",
    "# (Initialize empty list for two_day_change and loop through Close list to append difference between Close[index] and Close[index + 2] for all feasible index numbers)\n",
    "two_day_change = []\n",
    "\n",
    "index = 0\n",
    "print('Maximum Two-Day Change in Close Price: ')\n",
    "while (index < len(Close)-2):\n",
    "    two_day_change.append(Close[index+2]-Close[index])\n",
    "    index +=1\n",
    "if max(two_day_change) > abs(min(two_day_change)):\n",
    "    print(max(two_day_change))\n",
    "else:\n",
    "    print(min(two_day_change))\n",
    "\n",
    "# What was the average daily trading volume during this year?\n",
    "print('Average Daily Trading Volume: ')\n",
    "print(sum(Volume)/len(Volume))\n",
    "\n",
    "# (Optional) What was the median trading volume during this year. (Note: you may need to implement your own function for calculating the median.)"
   ]
  }
 ],
 "metadata": {
  "kernelspec": {
   "display_name": "Python 3",
   "language": "python",
   "name": "python3"
  },
  "language_info": {
   "codemirror_mode": {
    "name": "ipython",
    "version": 3
   },
   "file_extension": ".py",
   "mimetype": "text/x-python",
   "name": "python",
   "nbconvert_exporter": "python",
   "pygments_lexer": "ipython3",
   "version": "3.7.6"
  }
 },
 "nbformat": 4,
 "nbformat_minor": 4
}
